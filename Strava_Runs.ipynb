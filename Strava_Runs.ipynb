{
 "cells": [
  {
   "cell_type": "markdown",
   "id": "f1866aff",
   "metadata": {},
   "source": [
    "# Credits\n",
    "The steps from this notebook are an adption of the guides from\n",
    "- http://www.grace-dev.com/python-apis/strava-api\n",
    "- https://towardsdatascience.com/visualize-your-strava-data-on-an-interactive-map-with-python-92c1ce69e91d"
   ]
  },
  {
   "cell_type": "markdown",
   "id": "af23c216",
   "metadata": {},
   "source": [
    "# Preparation\n",
    "\n",
    "The first step is to log into Strava and to create an app on https://developers.strava.com that will later be connected with the account and will get access to activity data through the Strava API.\n",
    "\n",
    "Once the app has been created one will be forwarded to the settings API page of the new app from which the following entries should be stored in a `strava.ini` properties file:\n",
    "\n",
    "    [Strava]\n",
    "    client_id = XXXXX\n",
    "    client_secret = XXXXX\n",
    "    refresh_token = XXXXX\n",
    "\n",
    "The properties will be read with Python's `configparser` module:"
   ]
  },
  {
   "cell_type": "code",
   "execution_count": 1,
   "id": "ebc7f514",
   "metadata": {
    "scrolled": false
   },
   "outputs": [],
   "source": [
    "import configparser\n",
    "config = configparser.ConfigParser()\n",
    "config.read('strava.ini')\n",
    "client_id = config['Strava']['client_id']\n",
    "client_secret = config['Strava']['client_secret']\n",
    "refresh_token = config['Strava']['refresh_token']"
   ]
  },
  {
   "cell_type": "markdown",
   "id": "af6b181a",
   "metadata": {},
   "source": [
    "The following function connects with Strava's authentication API and returns both an `access_token`to be used for subsequent API calls for data retrieval and a `refresh_token` which is either the same one as the one passed into the fuction if the last access token has not expired or a new one if a new access token has been created.  "
   ]
  },
  {
   "cell_type": "code",
   "execution_count": 2,
   "id": "5b00091d",
   "metadata": {
    "scrolled": true
   },
   "outputs": [
    {
     "name": "stderr",
     "output_type": "stream",
     "text": [
      "/usr/lib/python3/dist-packages/urllib3/connectionpool.py:1015: InsecureRequestWarning: Unverified HTTPS request is being made to host 'www.strava.com'. Adding certificate verification is strongly advised. See: https://urllib3.readthedocs.io/en/latest/advanced-usage.html#ssl-warnings\n",
      "  warnings.warn(\n"
     ]
    }
   ],
   "source": [
    "import requests\n",
    "import json\n",
    "\n",
    "# define function to get a new access token\n",
    "def get_access_token(client_id, client_secret, refresh_token):\n",
    " \n",
    "   oauth_url = 'https://www.strava.com/oauth/token'\n",
    " \n",
    "   payload = {\n",
    "       'client_id': client_id, \n",
    "       'client_secret': client_secret, \n",
    "       'refresh_token': refresh_token, \n",
    "       'grant_type': 'refresh_token', \n",
    "       'f': 'json', \n",
    "   }\n",
    " \n",
    "   r = requests.post(oauth_url, data=payload, verify=False)\n",
    " \n",
    "   access_token = r.json()['access_token']\n",
    "   return (access_token, refresh_token)\n",
    "\n",
    "# get new access token\n",
    "(access_token, refresh_token) = get_access_token(client_id, client_secret, refresh_token)\n"
   ]
  },
  {
   "cell_type": "markdown",
   "id": "1765a659",
   "metadata": {},
   "source": [
    "If the `refresh_token` has been renewed, the config file needs an update."
   ]
  },
  {
   "cell_type": "code",
   "execution_count": 3,
   "id": "148bd08c",
   "metadata": {},
   "outputs": [],
   "source": [
    "config['Strava']['refresh_token'] = refresh_token\n",
    "with open('strava.ini', 'w') as configfile:\n",
    "    config.write(configfile)"
   ]
  },
  {
   "cell_type": "code",
   "execution_count": 6,
   "id": "4417d620",
   "metadata": {},
   "outputs": [
    {
     "name": "stdout",
     "output_type": "stream",
     "text": [
      "Thomas\n"
     ]
    }
   ],
   "source": [
    "# Build the API url to get athlete info\n",
    "athlete_url = f\"https://www.strava.com/api/v3/athlete?\" \\\n",
    "              f\"access_token={access_token}\"\n",
    "\n",
    "# Get the response in json format\n",
    "response = requests.get(athlete_url)\n",
    "athlete = response.json()\n",
    "\n",
    "print(athlete['firstname'])"
   ]
  },
  {
   "cell_type": "markdown",
   "id": "796b9823",
   "metadata": {},
   "source": [
    "The result (in my case `Thomas`) shows that authentication and data request was successful.\n",
    "Now it's time to have a look into recent activities:"
   ]
  },
  {
   "cell_type": "code",
   "execution_count": 5,
   "id": "7db9ed13",
   "metadata": {},
   "outputs": [
    {
     "name": "stdout",
     "output_type": "stream",
     "text": [
      "{'message': 'Authorization Error', 'errors': [{'resource': 'AccessToken', 'field': 'activity:read_permission', 'code': 'missing'}]}\n"
     ]
    }
   ],
   "source": [
    "# define function to get your strava data\n",
    "def get_data(access_token, per_page=200, page=1):\n",
    " \n",
    "   activities_url = 'https://www.strava.com/api/v3/athlete/activities'\n",
    "   headers = {'Authorization': 'Bearer ' + access_token}\n",
    "   params = {'per_page': per_page, 'page': page}\n",
    "   \n",
    "   data = requests.get(\n",
    "       activities_url, \n",
    "       headers=headers, \n",
    "       params=params\n",
    "   ).json()\n",
    " \n",
    "   return data\n",
    "# get you strava data\n",
    "max_number_of_pages = 10\n",
    "data = get_data(access_token)\n",
    "\n",
    "print(data)"
   ]
  },
  {
   "cell_type": "markdown",
   "id": "f4418905",
   "metadata": {},
   "source": [
    "Unfortunately, the result is far from what was to be expected:\n",
    "\n",
    "    {'message': 'Authorization Error', 'errors': [{'resource': 'AccessToken', 'field': 'activity:read_permission', 'code': 'missing'}]}\n",
    "    \n",
    "The issue is that the standard authentication token from the registered Strava app does only come with basic `read` permissions which gives access to basic athlete information but not to activity data for the athletes. To obtain these enhanced access permissions, the respective user needs to opt in through a specific authentication procedure.       "
   ]
  },
  {
   "cell_type": "code",
   "execution_count": 7,
   "id": "2056f2ad",
   "metadata": {
    "scrolled": true
   },
   "outputs": [
    {
     "name": "stdout",
     "output_type": "stream",
     "text": [
      "Click here: http://www.strava.com/oauth/authorize?client_id=81837&response_type=code&redirect_uri=http://localhost/&approval_prompt=force&scope=profile:read_all,activity:read_all\n",
      "Please authorize the app and copy&paste below the generated code!\n",
      "P.S: you can find the code in the URL\n",
      "Insert the code from the url: e4d608c9f997fea731054adf352e6ceb2e63b43b\n"
     ]
    }
   ],
   "source": [
    "redirect_uri = 'http://localhost/'\n",
    "\n",
    "# Authorization URL\n",
    "request_url = f'http://www.strava.com/oauth/authorize?client_id={client_id}' \\\n",
    "                  f'&response_type=code&redirect_uri={redirect_uri}' \\\n",
    "                  f'&approval_prompt=force' \\\n",
    "                  f'&scope=profile:read_all,activity:read_all'\n",
    "\n",
    "# User prompt showing the Authorization URL\n",
    "# and asks for the code\n",
    "print('Click here:', request_url)\n",
    "print('Please authorize the app and copy&paste below the generated code!')\n",
    "print('P.S: you can find the code in the URL')\n",
    "code = input('Insert the code from the url: ')"
   ]
  },
  {
   "cell_type": "markdown",
   "id": "fd356fcb",
   "metadata": {},
   "source": [
    "With this `code` it is now possible to request new access tokens with sufficient permissions to read activity data."
   ]
  },
  {
   "cell_type": "code",
   "execution_count": 8,
   "id": "08a2a9e5",
   "metadata": {},
   "outputs": [],
   "source": [
    "# Get the access token\n",
    "tokens = requests.post(url='https://www.strava.com/oauth/token',\n",
    "                       data={'client_id': client_id,\n",
    "                             'client_secret': client_secret,\n",
    "                             'code': code,\n",
    "                             'grant_type': 'authorization_code'})\n",
    "\n",
    "#Save json response as a variable\n",
    "strava_tokens = tokens.json()\n"
   ]
  },
  {
   "cell_type": "code",
   "execution_count": 9,
   "id": "9ce7165d",
   "metadata": {},
   "outputs": [
    {
     "name": "stdout",
     "output_type": "stream",
     "text": [
      "{'token_type': 'Bearer', 'expires_at': 1650133614, 'expires_in': 21600, 'refresh_token': '2558fae10a7c4a83ccc3701b99042d108369a498', 'access_token': '04bfab866d8754487422cb0c8ce5b90cae240c63', 'athlete': {'id': 25808221, 'username': 'tthevis', 'resource_state': 2, 'firstname': 'Thomas', 'lastname': 'Thevis', 'bio': None, 'city': 'Berlin', 'state': 'Berlin', 'country': 'Germany', 'sex': 'M', 'premium': True, 'summit': True, 'created_at': '2017-10-21T17:48:43Z', 'updated_at': '2022-04-15T19:46:34Z', 'badge_type_id': 1, 'weight': 88.0, 'profile_medium': 'https://dgalywyr863hv.cloudfront.net/pictures/athletes/25808221/7481752/2/medium.jpg', 'profile': 'https://dgalywyr863hv.cloudfront.net/pictures/athletes/25808221/7481752/2/large.jpg', 'friend': None, 'follower': None}}\n"
     ]
    }
   ],
   "source": [
    "print (strava_tokens)"
   ]
  },
  {
   "cell_type": "code",
   "execution_count": 10,
   "id": "311ca46d",
   "metadata": {},
   "outputs": [],
   "source": [
    "config['Strava']['refresh_token'] = strava_tokens['refresh_token']\n",
    "with open('strava.ini', 'w') as configfile:\n",
    "    config.write(configfile)"
   ]
  },
  {
   "cell_type": "code",
   "execution_count": 11,
   "id": "c9641f8f",
   "metadata": {},
   "outputs": [],
   "source": [
    "access_token = strava_tokens['access_token']"
   ]
  },
  {
   "cell_type": "code",
   "execution_count": 12,
   "id": "9ddabc08",
   "metadata": {},
   "outputs": [
    {
     "name": "stdout",
     "output_type": "stream",
     "text": [
      "{'resource_state': 2, 'athlete': {'id': 25808221, 'resource_state': 1}, 'name': '45 minutes base training ⛅', 'distance': 8825.9, 'moving_time': 2953, 'elapsed_time': 2957, 'total_elevation_gain': 37.2, 'type': 'Run', 'workout_type': 0, 'id': 6987020187, 'start_date': '2022-04-15T16:48:38Z', 'start_date_local': '2022-04-15T18:48:38Z', 'timezone': '(GMT+01:00) Europe/Berlin', 'utc_offset': 7200.0, 'location_city': None, 'location_state': None, 'location_country': 'Germany', 'achievement_count': 0, 'kudos_count': 9, 'comment_count': 0, 'athlete_count': 1, 'photo_count': 0, 'map': {'id': 'a6987020187', 'summary_polyline': 'qih_IuaipAC\\\\DpA@dBKlBWdBBp@KTQv@Dj@Nt@n@dBVf@Pp@Vr@Ln@Ph@r@zAJb@`@j@r@nBXn@Rn@Zb@hApBb@\\\\j@BtBj@NF\\\\UPCn@?Z\\\\PB`@Av@Qd@HXNVRLZzApAVHXV`Bz@v@p@j@h@NTz@v@hBnBx@hAnAtAXd@l@^`@b@f@NDdANv@H~@Dr@DNBADFPp@Xl@Xh@j@xA^t@VX`AL@Bd@jBPbAL~@Nt@`@jADpATlCRlEBdBh@dKLdE?tAJnB`@xDnAhFDr@DjBE`@Lp@VfBDdC@rAEtBG|@I`@Cx@Gh@m@fBKt@Wb@Sj@Mx@c@zAKb@Wh@ONq@X}@YICACS@Y^EJk@p@U^Qb@KjA_@Pc@HO\\\\A~@Ij@m@hAu@lAiAxB}@pAe@t@c@f@a@x@STs@hA}@~AQPWNq@t@Yb@Yn@c@f@{@nA?FgAnBWj@AH[`@]Z]h@s@bBMl@aA`Aa@XwArAe@j@uBdDu@lAO^aA@WDg@A]Oa@[_@a@IScAsAWe@_@e@k@cAa@WQi@cBiC{@mBQY_@Y_@c@W_@{@aAWg@YQq@gAUk@_@e@OG]Yk@eBOs@]m@e@_BUo@Wc@e@g@GCMOQk@Y]k@oAO{@Yk@_@a@Cq@Uo@We@o@_B[i@_@aA{@}@Se@Ic@Uo@gAoBKm@GSe@_Ae@gBm@eBKG[]]k@Mm@Qk@DqB^yDL}@@_AJkAJ}CAaAHw@Cm@?{BGq@@u@VcBTu@p@{AVq@NaABmAK{BTaC?eAAQOaAYi@wAeA_BsAQ]JkA?_@Qk@[q@wA{D]s@SUCWDOl@k@V_@LIVGNQRs@JU\\\\]H}@@a@?a@YmBEqFSgG@aCNiGFKd@Wf@GlAARYA_EPsE?}@GeA?_AWeCEw@AuBEo@@i@Ju@Eu@[k@Gw@H]HGVCd@QVWXMt@Sf@EPGn@Af@GNIVADn@RAHKVEj@?d@B^Hx@G^Gz@EPB`@Ap@L^KDEd@@v@T|@Nb@?LC^`@HWl@MN@LC@g@ZwC?}@@{@', 'resource_state': 2}, 'trainer': False, 'commute': False, 'manual': False, 'private': False, 'visibility': 'everyone', 'flagged': False, 'gear_id': None, 'start_latlng': [52.47711645439267, 13.324278630316257], 'end_latlng': [52.47757025063038, 13.322643488645554], 'average_speed': 2.989, 'max_speed': 4.521, 'average_cadence': 78.3, 'has_heartrate': True, 'average_heartrate': 137.9, 'max_heartrate': 154.0, 'heartrate_opt_out': False, 'display_hide_heartrate_option': True, 'elev_high': 60.1, 'elev_low': 41.5, 'upload_id': 7435848466, 'upload_id_str': '7435848466', 'external_id': 'garmin_push_8644785859', 'from_accepted_tag': False, 'pr_count': 0, 'total_photo_count': 0, 'has_kudoed': False, 'suffer_score': 26.0}\n"
     ]
    }
   ],
   "source": [
    "print(get_data(access_token)[0])"
   ]
  },
  {
   "cell_type": "markdown",
   "id": "af09247d",
   "metadata": {},
   "source": [
    "Now it is possible to fetch all activity data as a sequence of paginated `get_data()` calls and add results to a list."
   ]
  },
  {
   "cell_type": "code",
   "execution_count": 14,
   "id": "b58c8169",
   "metadata": {},
   "outputs": [],
   "source": [
    "max_number_of_pages = 10\n",
    "data = list()\n",
    "for page_number in range(1, max_number_of_pages + 1):\n",
    "    page_data = get_data(access_token, page=page_number)\n",
    "    if page_data == []:\n",
    "        break\n",
    "    data.append(page_data)"
   ]
  },
  {
   "cell_type": "code",
   "execution_count": 16,
   "id": "f1ff51ae",
   "metadata": {},
   "outputs": [
    {
     "name": "stdout",
     "output_type": "stream",
     "text": [
      "Number of activities downloaded: 812\n"
     ]
    }
   ],
   "source": [
    "# data dictionaries\n",
    "data_dictionaries = []\n",
    "for page in data:\n",
    "    data_dictionaries.extend(page)\n",
    "# print number of activities\n",
    "print('Number of activities downloaded: {}'.format(len(data_dictionaries)))"
   ]
  },
  {
   "cell_type": "markdown",
   "id": "c8aaa73d",
   "metadata": {},
   "source": [
    "The activities dictionary can now be persisted in a local file."
   ]
  },
  {
   "cell_type": "code",
   "execution_count": 20,
   "id": "516c27ca",
   "metadata": {},
   "outputs": [],
   "source": [
    "with open('strava_activities.txt', 'w') as activities_file: \n",
    "     activities_file.write(json.dumps(data_dictionaries))"
   ]
  },
  {
   "cell_type": "code",
   "execution_count": null,
   "id": "e8279697",
   "metadata": {},
   "outputs": [],
   "source": []
  }
 ],
 "metadata": {
  "kernelspec": {
   "display_name": "Python 3 (ipykernel)",
   "language": "python",
   "name": "python3"
  },
  "language_info": {
   "codemirror_mode": {
    "name": "ipython",
    "version": 3
   },
   "file_extension": ".py",
   "mimetype": "text/x-python",
   "name": "python",
   "nbconvert_exporter": "python",
   "pygments_lexer": "ipython3",
   "version": "3.9.7"
  }
 },
 "nbformat": 4,
 "nbformat_minor": 5
}
